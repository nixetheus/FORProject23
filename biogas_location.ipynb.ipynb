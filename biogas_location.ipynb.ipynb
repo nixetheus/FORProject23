{
  "cells": [
    {
      "cell_type": "markdown",
      "metadata": {
        "id": "0is6zsDH2sUE"
      },
      "source": [
        "# Big project\n",
        "\n",
        "## Submission\n",
        "\n",
        "Submit solutions to https://forms.office.com/e/WexY7YraJb.\n",
        "\n",
        "1.   Upload code in .ipynb file\n",
        "2.   Upload a csv containing three columns: \n",
        "*    \"ID\": the ID of the instance (1, 2, 3, ...)\n",
        "*    \"OBJ\": the objective function value obtained\n",
        "*    \"TIME\": the execution time in seconds.\n",
        "\n",
        "## Evaluation\n",
        "\n",
        "1.   Gap w.r.t. optimal solutions\n",
        "2.   Runtimes. Must be under 10 minutes for every instance. Execution times will be re-examined on a random basis.\n",
        "\n",
        "## Deadline\n",
        "\n",
        "12/01/2022 23:59 CET\n",
        "\n",
        "## Other\n",
        "\n",
        "*   4 lab points just if you deliver something that works\n",
        "*   10 points based on the quality of method\n",
        "*   NO pre-coded libraries, \n",
        "*   NO genetic algorithms \n",
        "*   NO neural networks\n",
        "*   groups of max 3 students\n",
        "\n",
        "\n"
      ]
    },
    {
      "cell_type": "markdown",
      "source": [
        "# Group Members\n",
        "Mario Cela 10685242\n",
        "\n",
        "Giovanni Baccichet 10851745\n",
        "\n",
        "Luca Cassenti 10667208"
      ],
      "metadata": {
        "id": "7q8UtKvnpJ69"
      }
    },
    {
      "cell_type": "markdown",
      "metadata": {
        "id": "UdlvHj_vueO5"
      },
      "source": [
        "## Biogas plants location\n",
        "\n",
        "An association of $n$ farmers wants to open $p$ plants to produce energy from biogas. \n",
        "Each plant will be opened at a farm of a member of the association and will be powered with corn chopping purchased from the farm itself or from other neighboring farms.\n",
        "\n",
        "Each farm $i$ can provide at most $c_i$ tons of corn chopping, with a percentage of dry matter $a_i$. As you may know, dry matter is the key component of corn chopping used for biogas production. In order to maintain the quality of produced energy, each plant must burn a mixture of corn chopping with a percentage of dry matter between $k_{min}$ and $k_{max}$. \n",
        "\n",
        "At most one plant can be located in each farm, and every farm can sell its corn chopping to one and only one plant.\n",
        "\n",
        "Each farm $i$ is located at coordinates $x_i$ and $y_i$, representing respectively its latitude and longitude, and the cost of moving corn chopping from a farm $i$ to a farm $j$ is proportional to the euclidean distance between the two farms (it does not depend on the actual quantity moved, since the trucks used for this transportations are sufficiently big). \n",
        "\n",
        "Under such conditions, every plant produces $Q$ kWh of energy per ton of corn chopping burned. The energy produced by each plant will be fed into the national electricity system, at a unitary price of $b$ (€/kWh). Moreover, due to state regulations, each plant must not produce more than $M$ kWh of energy.\n",
        "\n",
        "You must locate $p$ plants among the available farms and assign the farms that will supply each plant, with the goal of maximizing the total revenues of the association."
      ]
    },
    {
      "cell_type": "markdown",
      "metadata": {
        "id": "hnxGk0C12oFZ"
      },
      "source": [
        "### Sets\n",
        "*   $I$ = set of farms\n",
        "\n",
        "### Parameters\n",
        "*   $n$ = number of farms   \n",
        "*   $p$ = number of plants to locate\n",
        "*   $b$ = revenue per unit of energy (€/kWh)\n",
        "*   $M$ = max energy production (kWh)\n",
        "*   $Q$ = energy produced by a ton of corn chopping (kWh/t)\n",
        "*   $k_{min} (k_{max})$ = min (max) percentage of dry matter for fermentation\n",
        "*   $a_i$ = percentage of dry matter in chopping from farm $i \\in I$\n",
        "*   $c_i$ = tons of corn chopping available for each $i \\in I$ (t)\n",
        "*   $x_i, y_i$ = coordinates of farm $i \\in I$"
      ]
    },
    {
      "cell_type": "markdown",
      "source": [
        "### Model\n",
        "1. We must have a total of $p$ plants located:\n",
        "    \n",
        "  $\\sum_{i \\in I} u_i = p$\n",
        "    \n",
        "2. When a corn chopping is moved from a farm $i$, it must be sent to one and only one farm/plant:\n",
        "    \n",
        "  $\\sum_{j \\in I} (v_{ij}) \\le 1$     that must hold for each farm $i\\in I$\n",
        "    \n",
        "3. The amount of corn chopping that will be moved from a farm $i$ to a farm/plant $j$ can be greater than zero if and only if it is $v_{ij} = 1$. If it holds, $w_{ij}$ must not be greater than the availability of corn chopping of the farm $i$:\n",
        "    \n",
        "  $0 \\leq \\sum_{j\\in I} (w_{ij} \\cdot v_{ij}) \\le c_i$     that must hold for each $(i, j)\\in I \\times I$\n",
        "    \n",
        "4. What is burnt by a plant, must have a dry matter percentage between specific values. For each farm $i$, we consider the backward star and we sum all the corn chopping that is coming to the farm $i$. We get the average and we impose that it is greater than a minimum. It is the same for the maximum. \n",
        "    \n",
        "    It holds for each farm because if the farm $i$ is not a plant, it will be $0 \\le 0$, because we know from the previous constraints that $w_{ji}$ is greater than $0$ if the arc $v_{ji}$ is active, which in turn is $1$ if $x_i$ is $1$. So, the constraints are:\n",
        "    \n",
        "  $\\sum_{j\\in I}(w_{ji}\\cdot a_j)\\geq k_{min}\\cdot (\\sum_{j\\in I}(w_{ji}))$     that must hold for each farm $i\\in I$\n",
        "    \n",
        "  $\\sum_{j\\in I}(w_{ji}\\cdot a_j)\\leq k_{max}\\cdot (\\sum_{j\\in I}(w_{ji}))$     that must hold for each farm $i\\in I$\n",
        "    \n",
        "5. Due to state regulations, we have a limit on the energy produced by each plant. This constraint is introduced for each farm $i$. So, it is:\n",
        "    \n",
        "  $(\\sum_{j\\in I} (w_{ji}))\\ \\cdot\\ Q \\le M$\n",
        "\n",
        "6. When the corn chopping is moved from a farm $i$ to another farm $j$, the farm $j$ must be a plant:\n",
        "    \n",
        "  $v_{ij} \\le u_j$     that must hold for each $(i, j)\\in I \\times I$"
      ],
      "metadata": {
        "id": "J-hECRkY1DNk"
      }
    },
    {
      "cell_type": "markdown",
      "source": [
        "### Optimization Function\n",
        "\n",
        "#### Original\n",
        "$$\n",
        "max\\bigg\\{\\sum_{i\\in I}\\sum_{j\\in I} w_{ij}\\cdot Q\\cdot b - \\sum_{i\\in I} \\sum_{j\\in I} v_{ij}\\cdot d_{ij}\\bigg\\}\n",
        "$$\n",
        "\n",
        "#### With Heuristic\n",
        "$$\n",
        "max\\bigg\\{\\sum_{i\\in I}\\sum_{j\\in I} w_{ij}\\bigg\\}\n",
        "$$"
      ],
      "metadata": {
        "id": "T_KL0vrS1EIv"
      }
    },
    {
      "cell_type": "markdown",
      "source": [
        "### Code"
      ],
      "metadata": {
        "id": "iRZeuLLg669k"
      }
    },
    {
      "cell_type": "code",
      "execution_count": 113,
      "metadata": {
        "colab": {
          "base_uri": "https://localhost:8080/"
        },
        "id": "z8gsaiSYIFw4",
        "outputId": "b87f650f-6181-4b40-c633-864ce1e5b7e7"
      },
      "outputs": [
        {
          "output_type": "stream",
          "name": "stdout",
          "text": [
            "--2023-01-11 22:31:37--  https://raw.githubusercontent.com/Daddeee/FOR_Labs_22-23/master/big-project/instances/instance_1.json\n",
            "Resolving raw.githubusercontent.com (raw.githubusercontent.com)... 185.199.108.133, 185.199.109.133, 185.199.110.133, ...\n",
            "Connecting to raw.githubusercontent.com (raw.githubusercontent.com)|185.199.108.133|:443... connected.\n",
            "HTTP request sent, awaiting response... 200 OK\n",
            "Length: 572 [text/plain]\n",
            "Saving to: ‘instance_1.json’\n",
            "\n",
            "instance_1.json     100%[===================>]     572  --.-KB/s    in 0s      \n",
            "\n",
            "2023-01-11 22:31:37 (28.3 MB/s) - ‘instance_1.json’ saved [572/572]\n",
            "\n",
            "--2023-01-11 22:31:37--  https://raw.githubusercontent.com/Daddeee/FOR_Labs_22-23/master/big-project/results/instance_1.txt\n",
            "Resolving raw.githubusercontent.com (raw.githubusercontent.com)... 185.199.110.133, 185.199.111.133, 185.199.108.133, ...\n",
            "Connecting to raw.githubusercontent.com (raw.githubusercontent.com)|185.199.110.133|:443... connected.\n",
            "HTTP request sent, awaiting response... 200 OK\n",
            "Length: 18 [text/plain]\n",
            "Saving to: ‘instance_1.txt’\n",
            "\n",
            "instance_1.txt      100%[===================>]      18  --.-KB/s    in 0s      \n",
            "\n",
            "2023-01-11 22:31:38 (640 KB/s) - ‘instance_1.txt’ saved [18/18]\n",
            "\n"
          ]
        }
      ],
      "source": [
        "# Clean files if present\n",
        "!rm instance_1.json\n",
        "!rm instance_1.txt\n",
        "\n",
        "# Download instance_1 (both instance and solution) directly from Github\n",
        "!wget https://raw.githubusercontent.com/Daddeee/FOR_Labs_22-23/master/big-project/instances/instance_1.json\n",
        "!wget https://raw.githubusercontent.com/Daddeee/FOR_Labs_22-23/master/big-project/results/instance_1.txt"
      ]
    },
    {
      "cell_type": "code",
      "source": [
        "!pip install --upgrade cffi==1.15.0\n",
        "import importlib\n",
        "import cffi\n",
        "importlib.reload(cffi)\n",
        "!pip install mip"
      ],
      "metadata": {
        "colab": {
          "base_uri": "https://localhost:8080/"
        },
        "id": "2qnyI8t-ynvf",
        "outputId": "51d89194-6881-47dc-8b02-2de6023f0ba5"
      },
      "execution_count": 114,
      "outputs": [
        {
          "output_type": "stream",
          "name": "stdout",
          "text": [
            "Looking in indexes: https://pypi.org/simple, https://us-python.pkg.dev/colab-wheels/public/simple/\n",
            "Requirement already satisfied: cffi==1.15.0 in /usr/local/lib/python3.8/dist-packages (1.15.0)\n",
            "Requirement already satisfied: pycparser in /usr/local/lib/python3.8/dist-packages (from cffi==1.15.0) (2.21)\n",
            "Looking in indexes: https://pypi.org/simple, https://us-python.pkg.dev/colab-wheels/public/simple/\n",
            "Requirement already satisfied: mip in /usr/local/lib/python3.8/dist-packages (1.15.0)\n",
            "Requirement already satisfied: cffi==1.15.* in /usr/local/lib/python3.8/dist-packages (from mip) (1.15.0)\n",
            "Requirement already satisfied: pycparser in /usr/local/lib/python3.8/dist-packages (from cffi==1.15.*->mip) (2.21)\n"
          ]
        }
      ]
    },
    {
      "cell_type": "code",
      "source": [
        "import os\n",
        "import mip\n",
        "import time\n",
        "import numpy as np\n",
        "import networkx as nx\n",
        "import matplotlib.pyplot as plt"
      ],
      "metadata": {
        "id": "DeXnbqU9nlLx"
      },
      "execution_count": 115,
      "outputs": []
    },
    {
      "cell_type": "code",
      "execution_count": 116,
      "metadata": {
        "colab": {
          "base_uri": "https://localhost:8080/",
          "height": 967
        },
        "id": "_KMiMx9LIpfI",
        "outputId": "00f98712-2e4d-40d4-f152-940a7b4ff271"
      },
      "outputs": [
        {
          "output_type": "display_data",
          "data": {
            "text/plain": [
              "<Figure size 1800x1080 with 1 Axes>"
            ],
            "image/png": "[encoded data removed]"
          },
          "metadata": {}
        },
        {
          "output_type": "stream",
          "name": "stdout",
          "text": [
            "Cost: 1324477.67 M euro\n",
            "Plants:\n",
            "  2 -->   1.000; farms: 0 (1967.00/1967.00); 2 (452.00/452.00); 3 (1866.00/1866.00); \n",
            "  4 -->   1.000; farms: 1 (1250.00/1250.00); 4 (679.99/756.00); \n",
            "result: 1324477.6736137536\n",
            "expected: 1324477.6736137536\n",
            "gap: 0.0\n"
          ]
        }
      ],
      "source": [
        "import json\n",
        "\n",
        "# Reads a .json instance and returns it in a dictionary\n",
        "def load_instance(filename):\n",
        "  with open(filename, 'r') as f:\n",
        "    data = json.load(f)\n",
        "  return data\n",
        "\n",
        "# Reads a .txt result and returns it\n",
        "def load_result(filename):\n",
        "  with open(filename, 'r') as f:\n",
        "      result = f.read()\n",
        "  return float(result)\n",
        "\n",
        "# SUPPORT FUNCTIONS\n",
        "\n",
        "# This function computes the distances between all pairs of points\n",
        "def distance_matrix(points_matrix):\n",
        "  return [[np.linalg.norm(i - j) for i in points_matrix] for j in points_matrix]\n",
        "\n",
        "# This functions is a text visualizer for the solution\n",
        "def print_result(optimal_result, v, u, w, farm_indexes, corn_availability):\n",
        "    \n",
        "  print(f\"Cost: {optimal_result:.2f} M euro\")\n",
        "\n",
        "  print(\"Plants:\")\n",
        "  for plant in farm_indexes:\n",
        "    if u[plant].x > 1e-7:\n",
        "      print(f\"{plant:3d} --> {u[plant].x:7.3f}; farms: \", end='')\n",
        "      for farm in farm_indexes:\n",
        "        if v[farm][plant].x > 1e-7:\n",
        "          print(f\"{farm} ({w[farm][plant].x:.2f}/{corn_availability[farm]:.2f}); \", end='')\n",
        "      print('')\n",
        "\n",
        "def solve(instance):\n",
        "\n",
        "  # Start timer for evaluation\n",
        "  start_time = time.time()\n",
        "\n",
        "  # Model Initialization\n",
        "  model = mip.Model(sense=\"MAXIMIZE\", solver_name=\"CBC\")\n",
        "\n",
        "  # Sets\n",
        "  farm_indexes = range(instance[\"n\"])\n",
        "\n",
        "  # Parameters\n",
        "  max_energy_production = instance[\"M\"]  # M is max energy production\n",
        "  energy_per_ton = instance[\"Q\"]  # Energy produced for ton (kWh / ton)\n",
        "  dry_matter_array = np.array(instance[\"a\"])  # % of dry matter\n",
        "  revenue_per_kwh = instance[\"b\"]  # Revenue (Euros / kWh)\n",
        "  corn_availability = np.array(instance[\"c\"])  # Availability (ton)\n",
        "  dry_matter_max = instance[\"kmax\"]  # Max % of dry matter\n",
        "  dry_matter_min = instance[\"kmin\"]  # Min % of dry matter\n",
        "  number_of_farms = instance[\"n\"]  # Number of farms\n",
        "  number_of_plants = instance[\"p\"]  # Number of plants\n",
        "  coordinates = instance[\"points\"]  # Coordinates of farms (x, y)\n",
        "  points = np.array([np.array(coordinates[index]) for index in farm_indexes])\n",
        "\n",
        "  # Variables\n",
        "  u = np.array([model.add_var(name=\"is_plant\", var_type=mip.BINARY) for farm in farm_indexes])  # Represents if plant exists in farm i\n",
        "  v = np.array([np.array([model.add_var(name=\"selling_to\", var_type=mip.BINARY) for farm in farm_indexes]) for plant in farm_indexes])  # Represents if farm i sells to plant j\n",
        "  w = np.array([np.array([model.add_var(name=\"material_amount\", var_type=mip.CONTINUOUS, lb=0.0) for farm in farm_indexes]) for plant in farm_indexes])  # Represents quantity farm i sells to plant j\n",
        "  \n",
        "  # Heuristic\n",
        "  # Since in the given instances revenues are way higher than costs, it is possible to choose in advance all the plants, in fact even the worst positioning\n",
        "  # still grants an almost optimal result. Thus we decided to proceed following this idea.\n",
        "  # We decided to choose our plants based on the corn available, as a plant with more corn should require less corn from other farms, thus reducing costs\n",
        "  # Following this heurisitic results in the constraint on the number of plants being already satisfied, thus we won't include it\n",
        "\n",
        "  heuristic_plants = sorted([farm for farm in farm_indexes], key=lambda farm: abs(corn_availability[farm] - max(corn_availability))/max(corn_availability))[::-1][:number_of_plants]\n",
        "\n",
        "  for farm in farm_indexes:\n",
        "    if farm in heuristic_plants:\n",
        "      model.add_constr(u[farm] == 1)\n",
        "    else:\n",
        "      model.add_constr(u[farm] == 0)\n",
        "\n",
        "  # Constraints\n",
        "\n",
        "  # 1) Redudant\n",
        "\n",
        "  # 2) When the corn chopping is moved from a farm it must be sent to one and only one plant\n",
        "  for farm in farm_indexes:\n",
        "    model.add_constr(mip.xsum(v[farm]) <= 1)\n",
        "\n",
        "  # 3) We can move the corn chopping if and only if the corresponding farm is selling to a specific plant\n",
        "  for farm in farm_indexes:\n",
        "    for plant in farm_indexes:\n",
        "        model.add_constr(w[farm][plant] <= corn_availability[farm] * v[farm][plant])\n",
        "\n",
        "  # 4) The corn chopping that each plant burns must have a percentage amount of dry matter within a specified range\n",
        "  for plant in farm_indexes:\n",
        "    model.add_constr(mip.xsum(np.multiply(w[:, plant], dry_matter_array)) >= mip.xsum(w[:, plant]) * dry_matter_min)\n",
        "    model.add_constr(mip.xsum(np.multiply(w[:, plant], dry_matter_array)) <= mip.xsum(w[:, plant]) * dry_matter_max)\n",
        "\n",
        "  # 5) Due to state regulations, we have a limit on the energy produced by each plant. This constraint is introduced for each plant\n",
        "  for plant in farm_indexes:\n",
        "    model.add_constr(mip.xsum(w[farm][plant] for farm in farm_indexes) * energy_per_ton <= max_energy_production)\n",
        "\n",
        "  # 6) When the corn chopping is moved from a farm to another farm, the receiving farm must be a plant:\n",
        "  for farm in farm_indexes:\n",
        "    for plant in farm_indexes:\n",
        "        model.add_constr(v[farm][plant] <= u[plant])\n",
        "\n",
        "  # Optimization\n",
        "  # We decided to only focus on the optimization of the revenue and not the minimization of the distances due to what we\n",
        "  # mentioned above. This only marginally changes the results and only worsen it, thus it's still a feasible solution.\n",
        "\n",
        "  model.objective = mip.maximize(mip.xsum(w.flatten()))  # Maximize the revenue\n",
        "  status = model.optimize()\n",
        "\n",
        "  # Calculate the effective result, now including the cost due to distances\n",
        "  distances = np.array(distance_matrix(points))\n",
        "  v_optimized = np.array([np.array([v[farm][plant].x for plant in farm_indexes]) for farm in farm_indexes])\n",
        "  result = model.objective_value * energy_per_ton * revenue_per_kwh - sum(np.multiply(np.array(distances), v_optimized).flatten())\n",
        "\n",
        "  # End timer for evaluation\n",
        "  end_time = time.time()\n",
        "  execution_time = end_time - start_time\n",
        "\n",
        "  # Data visualization\n",
        "  G = nx.Graph()\n",
        "\n",
        "  for farm in farm_indexes:\n",
        "    G.add_node(farm, pos=points[farm])\n",
        "\n",
        "  pos=nx.get_node_attributes(G,'pos')\n",
        "\n",
        "  color_map = []\n",
        "\n",
        "  for plant in farm_indexes:\n",
        "    if u[plant].x == 1:\n",
        "      color_map.append('#e76f51' )\n",
        "    else:\n",
        "      color_map.append('#2a9d8f')\n",
        "\n",
        "  for farm in farm_indexes:\n",
        "    for plant in farm_indexes:\n",
        "      if v[farm][plant].x == 1:\n",
        "        G.add_edge(farm, plant, label=w[farm][plant].x)\n",
        "\n",
        "  plt.figure(1, figsize=(25,15))\n",
        "  nx.draw_networkx(G, font_size=11, pos=pos, node_color=color_map, node_size=1500, alpha=0.90)\n",
        "  nx.draw_networkx_edge_labels(G,pos,edge_labels=nx.get_edge_attributes(G,'label'), font_color='#f08080')\n",
        "  plt.show()\n",
        "\n",
        "  print_result(result, v, u, w, farm_indexes, corn_availability)\n",
        "\n",
        "  # Return result\n",
        "  return result\n",
        "\n",
        "\n",
        "inst = load_instance(\"instance_1.json\")\n",
        "res = load_result(\"instance_1.txt\")\n",
        "\n",
        "obj = solve(inst)\n",
        "\n",
        "gap = 100 * (obj - res) / res\n",
        "\n",
        "print(\"result: {}\".format(obj))\n",
        "print(\"expected: {}\".format(res))\n",
        "print(\"gap: {}\".format(gap))"
      ]
    }
  ],
  "metadata": {
    "colab": {
      "provenance": []
    },
    "kernelspec": {
      "display_name": "Python 3.10.8 64-bit",
      "language": "python",
      "name": "python3"
    },
    "language_info": {
      "name": "python",
      "version": "3.10.8"
    },
    "vscode": {
      "interpreter": {
        "hash": "e7370f93d1d0cde622a1f8e1c04877d8463912d04d973331ad4851f04de6915a"
      }
    }
  },
  "nbformat": 4,
  "nbformat_minor": 0
}